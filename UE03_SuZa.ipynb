{
  "nbformat": 4,
  "nbformat_minor": 0,
  "metadata": {
    "colab": {
      "provenance": []
    },
    "kernelspec": {
      "name": "python3",
      "display_name": "Python 3"
    },
    "language_info": {
      "name": "python"
    }
  },
  "cells": [
    {
      "cell_type": "markdown",
      "source": [
        "#UE03 - SPARQL Query\n",
        "\n",
        "Please complete the 10 tasks in the `2. SPARQL` sheet of `SemAI.jar` first, and then transfer the task descriptions and your solutiosn in executable form to this notebook."
      ],
      "metadata": {
        "id": "PUyG1F1sVDEW"
      }
    },
    {
      "cell_type": "markdown",
      "source": [
        "## Preparation\n",
        "\n",
        "Reuse imports and functions from https://github.com/jku-win-dke/SemAI/blob/main/V02_SPARQL.ipynb and load the solar system graph. Query the solar system graph to check that everything works fine. "
      ],
      "metadata": {
        "id": "Ky2HcjBHxqLp"
      }
    },
    {
      "cell_type": "code",
      "execution_count": null,
      "metadata": {
        "id": "RgRHkpEsLmx_"
      },
      "outputs": [],
      "source": [
        "# Install required packages\n",
        "!pip install -q rdflib\n",
        "\n",
        "# Imports\n",
        "import pandas as pd\n",
        "from rdflib import Graph, Literal, RDF, URIRef, BNode, Namespace\n",
        "from rdflib.namespace import FOAF , XSD , RDFS, NamespaceManager \n",
        "\n",
        "# Convenient Functions\n",
        "def sparql_select(graph,query,use_prefixes=True):\n",
        "  results = graph.query(query)          # execute the query against the graph, resulting in a rdflib.plugins.sparql.processor.SPARQLResult\n",
        "  rows = []                             # a list of dictionaries, as intermediate format to construct the pandas DataFrame\n",
        "  for result in results:                # iterate over the result set of the query, a result is an instance of rdflib.query.ResultRow\n",
        "    row = {}                            #     create a dictionary to hold a single row of the result\n",
        "    for var in results.vars:            #     iterate over the variables of the SPARQLResult to add a dictionary entry for each variable\n",
        "      if (isinstance(result[var],URIRef) and use_prefixes):\n",
        "        row[var] = result[var].n3(graph.namespace_manager)   # use namespace prefixes to shorten URIs\n",
        "      else:\n",
        "        row[var] = result[var]                  \n",
        "    rows.append(row)                    #     add the dictionary (row) to the list \n",
        "  return pd.DataFrame(rows,columns=results.vars)        \n",
        "                                        # return a pandas DataFrame constructed from the list of dictionaries, with the variables from the result set as columns      \n",
        "\n",
        "def sparql_construct(graph, query):\n",
        "  result_graph = Graph(namespace_manager = g.namespace_manager)  # create a Graph object that reuses the namespace prefixes of the original graph\n",
        "  result_graph += graph.query(query)                             # execute the construct query against the original graph and add the resulting graph to the new one\n",
        "  return result_graph\n",
        "\n",
        "def sparql_ask(graph, query):\n",
        "  return bool(graph.query(query))      # an ASK query has a boolean result, which should be returned as such\n",
        "\n",
        "# Load solar system graph\n",
        "g = Graph()\n",
        "g.parse(\"https://raw.githubusercontent.com/jku-win-dke/SemAI/main/data/solarsystem.ttl\",format=\"turtle\")\n",
        "\n",
        "# Query solar system graph (to check that everything works fine)\n",
        "df = sparql_select(g,\"\"\"\n",
        "  SELECT ?planet ?apoapsis ?apoapsis_uom\n",
        "  WHERE { \n",
        "    ?planet rdf:type dbo:Planet . \n",
        "    OPTIONAL { ?planet v:apoapsis [rdf:value ?apoapsis ; v:uom ?apoapsis_uom ].  }\n",
        "  }\n",
        "\"\"\")\n",
        "df"
      ]
    },
    {
      "cell_type": "markdown",
      "source": [
        "\n",
        "## Task 1 (1 pt)\n",
        "\n",
        "Geben Sie alle Zwergplaneten (Instanzen der Klasse dbo:DwarfPlanet) aus und falls vorhanden deren genaue Entsprechung (skos:exactMatch). Ordnen Sie das Ergebnis aufsteigend nach den URIs der Zwergplaneten."
      ],
      "metadata": {
        "id": "yRBr_COBQPQE"
      }
    },
    {
      "cell_type": "code",
      "source": [
        "df = sparql_select(g,\"\"\"\n",
        "SELECT ?d ?match\n",
        "WHERE { ?d rdf:type dbo:DwarfPlanet .\n",
        "OPTIONAL { ?d skos:exactMatch ?match .}\n",
        " }\n",
        "ORDER BY ?d\n",
        "\"\"\")\n",
        "df"
      ],
      "metadata": {
        "id": "0PE_ll0-MCdk"
      },
      "execution_count": null,
      "outputs": []
    },
    {
      "cell_type": "markdown",
      "source": [
        "## Task 2 (1 pt)\n",
        "\n",
        "Ermitteln Sie alle Sterne, ihr exactMatch, und ihre Masse (geben Sie den Wert und die Maßeinheit aus). Ordnen Sie das Ergebnis nach der URI der Sterne"
      ],
      "metadata": {
        "id": "YVzpX0ExF6wO"
      }
    },
    {
      "cell_type": "code",
      "source": [
        "df = sparql_select(g,\"\"\"SELECT *\n",
        "WHERE { ?star rdf:type dbo:Star . \n",
        "       ?star skos:exactMatch ?match .\n",
        "       ?star v:mass [rdf:value ?massVal ].\n",
        "       ?star v:mass [v:uom ?massUoM]}\n",
        "ORDER BY ?star ?match\n",
        "\"\"\")\n",
        "df"
      ],
      "metadata": {
        "id": "j82TeG59F6wP"
      },
      "execution_count": null,
      "outputs": []
    },
    {
      "cell_type": "markdown",
      "source": [
        "## Task 3 (1 pt)\n",
        "\n",
        "Die Planeten unseres Sonnensystems und ihre jeweilige Anzahl an Monden. Unterscheiden Sie die im RDF-Graph beschriebenen Monde und die im RDF-Graph erfasste Anzahl von Monden. Sortieren Sie nach den Planeten."
      ],
      "metadata": {
        "id": "3i2B2tLRF7T3"
      }
    },
    {
      "cell_type": "code",
      "source": [
        "df = sparql_select(g, \"\"\"\n",
        "SELECT ?planet ?assertedNo (COALESCE(?moons_cnt , 0 ) as ?noOfDescribedMoons)\n",
        "WHERE { ?planet rdf:type dbo:Planet. \n",
        "        OPTIONAL { SELECT ?planet ( count(?m)  as ?moons_cnt )\n",
        "         WHERE { OPTIONAL { ?m v:orbits ?planet } }\n",
        "         GROUP BY ?planet\n",
        "         }\n",
        "        ?planet v:nrOfMoons ?assertedNo.\n",
        "      }\n",
        "ORDER BY ?planet\n",
        "\"\"\")\n",
        "df"
      ],
      "metadata": {
        "id": "uZVUV577F7T4"
      },
      "execution_count": null,
      "outputs": []
    },
    {
      "cell_type": "markdown",
      "source": [
        "## Task 4 (1 pt)\n",
        "\n",
        "Ermitteln sie für die Planeten in unserem Sonnensystem die durchschnittliche Anzahl an Monden (die auch im RDF-Graph beschrieben sind) pro Planet.\n",
        "\n"
      ],
      "metadata": {
        "id": "OEx2sM7nF7n2"
      }
    },
    {
      "cell_type": "code",
      "source": [
        "df = sparql_select(g, \"\"\"\n",
        "SELECT  ( avg(COALESCE(?NoOfDescribedMoons , 0 ) ) as ?avgNoOfDescribedMoons )\n",
        "    WHERE { ?planet rdf:type dbo:Planet. \n",
        "    OPTIONAL { SELECT ?planet ( count(?m)  as ?NoOfDescribedMoons )\n",
        "              WHERE { OPTIONAL { ?m v:orbits ?planet } }\n",
        "              GROUP BY ?planet\n",
        "              }\n",
        "          }\n",
        "\"\"\")\n",
        "df"
      ],
      "metadata": {
        "id": "1kk9dlZAF7n3"
      },
      "execution_count": null,
      "outputs": []
    },
    {
      "cell_type": "markdown",
      "source": [
        "## Task 5 (1 pt)\n",
        "\n",
        "Geben Sie die im RDF-Graph verwendeten Klassen und ihre Anzahl an Instanzen aus. Geben Sie nur Klassen mit mindestens 2 Instanzen aus. Ordnen Sie die Ausgabe nach der URI der Klassen.\n",
        "\n"
      ],
      "metadata": {
        "id": "1nGGo4_XF70X"
      }
    },
    {
      "cell_type": "code",
      "source": [
        "df = sparql_select(g, \"\"\"\n",
        "SELECT ?class ( COUNT(?s) as ?noOfInstances)\n",
        "WHERE { ?s rdf:type ?class  }\n",
        "GROUP BY ?class\n",
        "HAVING (COUNT(?s) > 2)\n",
        "ORDER BY ?class\n",
        "\"\"\")\n",
        "df"
      ],
      "metadata": {
        "id": "AxB2DcY-F70Y"
      },
      "execution_count": null,
      "outputs": []
    },
    {
      "cell_type": "markdown",
      "source": [
        "## Task 6 (1 pt)\n",
        "\n",
        "Ermitteln Sie alle Sterne, sowie alle Monde. Zu jedem Mond ermitteln Sie auch den Planet, den dieser Mond umrundet. Ordnen Sie die Ausgabe nach der URI der Sterne und Monde."
      ],
      "metadata": {
        "id": "nB_ZOGV9F7_v"
      }
    },
    {
      "cell_type": "code",
      "source": [
        "df = sparql_select(g, \"\"\"\n",
        "SELECT ?class ?prop (count(DISTINCT ?i) as ?noOfInstances)\n",
        "WHERE { \n",
        " ?i rdf:type ?class .\n",
        " ?i ?prop ?v }\n",
        "GROUP BY ?class ?prop\n",
        "HAVING (COUNT(DISTINCT ?i) >= 7)\n",
        "ORDER BY ?class ?prop\n",
        "\"\"\")\n",
        "df"
      ],
      "metadata": {
        "id": "x4uW2B4dF7_w"
      },
      "execution_count": null,
      "outputs": []
    },
    {
      "cell_type": "markdown",
      "source": [
        "## Task 7 (1 pt)\n",
        "\n",
        "Ermitteln Sie alle Sterne, sowie alle Monde. Zu jedem Mond ermitteln Sie auch den Planet, den dieser Mond umrundet. Ordnen Sie die Ausgabe nach der URI der Sterne und Monde."
      ],
      "metadata": {
        "id": "nXPqBOZjF8LH"
      }
    },
    {
      "cell_type": "code",
      "source": [
        "df = sparql_select(g, \"\"\"\n",
        "SELECT ?x ?y\n",
        "WHERE {\n",
        "\n",
        "      { ?x rdf:type dbo:Star }\n",
        "UNION { ?x rdf:type dbo:Satellite . ?x v:orbits ?y  }\n",
        "  } \n",
        "ORDER BY ?x\n",
        "\"\"\")\n",
        "df"
      ],
      "metadata": {
        "id": "rDqaQlDhF8LI"
      },
      "execution_count": null,
      "outputs": []
    },
    {
      "cell_type": "markdown",
      "source": [
        "## Task 8 (1 pt)\n",
        "\n",
        "Erzeugen sie mittels einer Construct-Query den angezeigten RDF-GRAPH (Expected Result). Reihenfolge ist unerheblich."
      ],
      "metadata": {
        "id": "Us6tYyDHF8V_"
      }
    },
    {
      "cell_type": "code",
      "source": [
        "df = sparql_construct(g, \"\"\"\n",
        "CONSTRUCT { ?x  v:wirdUmrundetVon ?sub .\n",
        "     ?a rdf:type v:Himmelskoerper. }\n",
        "WHERE { ?x (v:orbits)* :Sun \n",
        ". ?x rdf:type ?p \n",
        ". FILTER(?p NOT IN (dbo:DwarfPlanet))\n",
        ". OPTIONAL {?sub v:orbits ?x .\n",
        " ?sub rdf:type ?pp .\n",
        " FILTER(?pp NOT IN (dbo:DwarfPlanet)) }.\n",
        "\n",
        " ?a (v:orbits)+ :Sun .\n",
        " ?a rdf:type ?b .\n",
        " FILTER(?b NOT IN (dbo:DwarfPlanet))\n",
        "\n",
        "}\n",
        "\"\"\")\n",
        "print(df.serialize(format=\"turtle\"))"
      ],
      "metadata": {
        "id": "Mij855L3F8V_"
      },
      "execution_count": null,
      "outputs": []
    },
    {
      "cell_type": "markdown",
      "source": [
        "## Task 9 (1 pt)\n",
        "\n",
        "Gibt es einen Stern im RDF-Graph, der massereicher als die Sonne ist."
      ],
      "metadata": {
        "id": "IPLpuY8iF8gv"
      }
    },
    {
      "cell_type": "code",
      "source": [
        "df = sparql_ask(g, \"\"\"\n",
        "ASK { ?x v:mass  [rdf:value ?v; v:uom ?u] .\n",
        "\n",
        "BIND (IF( ?u = v:SolarMass, 1988435000000000000000000000000.0 , 1)  as ?conv )\n",
        "BIND (( ?v * ?conv) as ?m  )  \n",
        "FILTER(?x NOT IN (:Sun) )\n",
        " \n",
        "OPTIONAL { ?sun v:mass [rdf:value ?s ]. FILTER(?sun IN (:Sun)) }\n",
        "FILTER ( ?m > ?s ).\n",
        "}\n",
        "\"\"\")\n",
        "df"
      ],
      "metadata": {
        "id": "SaYpWyW0F8gw"
      },
      "execution_count": null,
      "outputs": []
    },
    {
      "cell_type": "code",
      "source": [
        "df = sparql_select(g, \"\"\"\n",
        "SELECT  ?x  ?m\n",
        "WHERE { ?x v:mass  [rdf:value ?v; v:uom ?u] .\n",
        "\n",
        "BIND (IF( ?u = v:SolarMass, 1988435000000000000000000000000.0 , 1)  as ?conv )\n",
        "BIND (( ?v * ?conv) as ?m  )  \n",
        "FILTER(?x NOT IN (:Sun) )\n",
        " \n",
        "OPTIONAL { ?sun v:mass [rdf:value ?s ]. FILTER(?sun IN (:Sun)) }\n",
        "FILTER ( ?m > ?s ).\n",
        "}\n",
        "\"\"\")\n",
        "df"
      ],
      "metadata": {
        "id": "OPC063e4KbwN"
      },
      "execution_count": null,
      "outputs": []
    },
    {
      "cell_type": "markdown",
      "source": [
        "## Task 10 (1 pt)\n",
        "\n",
        "Geben Sie eine Beschreibung der Resourcen aus, die einen Durchmesser zwischen 20.000 km und 30.000 km haben."
      ],
      "metadata": {
        "id": "vszUEtolF8qv"
      }
    },
    {
      "cell_type": "code",
      "source": [
        "df = sparql_construct(g, \"\"\"\n",
        "DESCRIBE ?s\n",
        "WHERE { ?s v:radius [rdf:value ?o; v:uom ?u ] .\n",
        "FILTER ( ?o > 20000 && ?o < 30000)\n",
        "}\n",
        "\"\"\")\n",
        "print(df.serialize(format=\"turtle\")) "
      ],
      "metadata": {
        "id": "t8gZYqQNF8qv"
      },
      "execution_count": null,
      "outputs": []
    }
  ]
}