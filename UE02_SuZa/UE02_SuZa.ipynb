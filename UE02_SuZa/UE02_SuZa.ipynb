{
  "cells": [
    {
      "cell_type": "markdown",
      "metadata": {
        "id": "BS4vo37YWsYf"
      },
      "source": [
        "# UE02 - RDF and RDF Schema\n",
        "\n",
        "Before you start with this notebook, complete the eight tasks in the `1. RDF` sheet of `SemAI.jar`. You will then make use of your solutions in this notebook. \n",
        "\n",
        "## Task 0: Preparation\n",
        "\n",
        "Preparation (Installs and Imports). \n",
        "\n",
        "\n"
      ]
    },
    {
      "cell_type": "code",
      "execution_count": null,
      "metadata": {
        "id": "UNTabDt9SLuw"
      },
      "outputs": [],
      "source": [
        "# Install required packages in the current Jupyter kernel\n",
        "!pip install -q rdflib \n",
        "!pip install -q pydot\n",
        "!pip install -q owlrl\n",
        "\n",
        "!pip install networkx pyvis\n",
        "\n",
        "import rdflib\n",
        "from rdflib import Graph, Literal, RDF, URIRef, BNode, Namespace, Dataset\n",
        "import networkx as nx\n",
        "from pyvis.network import Network\n",
        "import requests\n",
        "from IPython.display import display, HTML, Image\n",
        "import os\n",
        "import pydot\n",
        "import owlrl\n",
        "from rdflib.namespace import FOAF , XSD , RDFS \n",
        "\n"
      ]
    },
    {
      "cell_type": "code",
      "execution_count": null,
      "metadata": {
        "id": "mgNPY7mCP3e6"
      },
      "outputs": [],
      "source": [
        "# A function to produce a graphical visualization of an RDF graph\n",
        "def visualize_graph(g,base=None):\n",
        "\n",
        "  def node_id(graph,term):\n",
        "    if isinstance(term,Literal): return term.n3(graph.namespace_manager)\n",
        "    else: return f\"\\\"{term.n3(graph.namespace_manager)}\\\"\"\n",
        "\n",
        "  def add_node(dg,g,t,base):\n",
        "    if isinstance(t,URIRef):\n",
        "      lbl = f\"\\\"{t.n3(g.namespace_manager)}\\\"\"\n",
        "      if(base): lbl = lbl.replace(base,\"\")\n",
        "      if(len(lbl)>25): lbl = lbl[:12] + \"...\" +  lbl[-12:] \n",
        "      dg.add_node(pydot.Node( node_id(g,t), label=lbl ))\n",
        "    if isinstance(t,Literal):\n",
        "      dg.add_node(pydot.Node( node_id(g,t), label=t.n3(g.namespace_manager), shape=\"box\"))\n",
        "    if isinstance(t,BNode):\n",
        "      dg.add_node(pydot.Node( node_id(g,t), label=\"\"))    \n",
        "\n",
        "  def add_edge(dg,g,s,p,o):\n",
        "    dg.add_edge(pydot.Edge(node_id(g,s), node_id(g,o), label=f\"\\\"{p.n3(g.namespace_manager)}\\\"\"))\n",
        "\n",
        "  dg = pydot.Dot('my_graph', graph_type='digraph',layout='sfdp', splines='curved' )\n",
        "\n",
        "  for subj in g.subjects(None,None): add_node(dg,g,subj,base)\n",
        "  for obj in g.objects(None,None): add_node(dg,g,obj,base)\n",
        "  for (s,p,o) in g: add_edge(dg,g,s,p,o)   \n",
        "\n",
        "  display(Image(dg.create_png()))"
      ]
    },
    {
      "cell_type": "code",
      "execution_count": null,
      "metadata": {
        "id": "Y3-jE3kNQAY4"
      },
      "outputs": [],
      "source": [
        "rdf_str = \"\"\"BASE   <http://example.org/>\n",
        "PREFIX foaf: <http://xmlns.com/foaf/0.1/>\n",
        "PREFIX xsd: <http://www.w3.org/2001/XMLSchema#>\n",
        "PREFIX schema: <http://schema.org/>\n",
        "PREFIX dcterms: <http://purl.org/dc/terms/>\n",
        "PREFIX wd: <http://www.wikidata.org/entity/>\n",
        " \n",
        "<bob#me>\n",
        "   a foaf:Person ;\n",
        "   foaf:knows [a foaf:Perso];\n",
        "   foaf:knows <alice#me> ;\n",
        "   schema:birthDate \"1990-07-04\"^^xsd:date ;\n",
        "   foaf:topic_interest wd:Q12418 .\n",
        "   \n",
        "wd:Q12418\n",
        "  dcterms:title \"Mona Lisa\" ;\n",
        "  dcterms:creator <http://dbpedia.org/resource/Leonardo_da_Vinci> .\n",
        "\n",
        "<http://data.europeana.eu/item/04802/243FA8618938F4117025F17A8B813C5F9AA4D619>\n",
        "  dcterms:subject wd:Q12418 .\n",
        "\"\"\"\n",
        "\n",
        "g = Graph()\n",
        "g.parse(format=\"turtle\",data=rdf_str)\n",
        "visualize_graph(g,base=\"http://example.org/\")"
      ]
    },
    {
      "cell_type": "markdown",
      "metadata": {
        "id": "vc2iBjkcQQvD"
      },
      "source": [
        "## Task 1:  Improve interactive RDF graph visualization (1 pt)\n",
        "\n",
        "Improve function `visualize_graph_pyvis` (from `V01_rdf.ipynb`) as follows:\n",
        "- an optional `base` parameter\n",
        "- abbreviate the labels of nodes and edges in the same way as in `visualize_graph`. \n",
        "- make sure that blank node IDs are not shown in the visualization. \n",
        "\n",
        "Optional features: \n",
        "- use different graphical forms for literals and URIs\n",
        "- (add further improvements as you like)\n",
        "\n",
        "Test the function with `rdf_str` and with your solution to task `0. Intro` in the `1. RDF` sheet in `SemAI.jar`."
      ]
    },
    {
      "cell_type": "code",
      "execution_count": null,
      "metadata": {
        "id": "ObkiKdmWIP-D"
      },
      "outputs": [],
      "source": [
        "from networkx.linalg.spectrum import modularity_spectrum\n",
        "\n",
        "def visualize_graph_pyvis(g, base=None):\n",
        "\n",
        "    # Create the NetworkX graph\n",
        "    nx_graph = nx.DiGraph()\n",
        "\n",
        "    for s, p, o in g:\n",
        "          subject_ = s.n3(g.namespace_manager)\n",
        "          object_ = o.n3(g.namespace_manager)\n",
        "          predicate_ = p.n3(g.namespace_manager)\n",
        "\n",
        "          # replace base\n",
        "          if base:\n",
        "            subject_ = subject_.replace(base,\"\")\n",
        "            object_ = object_.replace(base,\"\")\n",
        "            predicate_ = predicate_.replace(base,\"\")\n",
        "\n",
        "          # abbreviations\n",
        "          subject_ = subject_[:12] + '...'+  subject_[-12:] if len(subject_)> 25 else subject_\n",
        "          object_ = object_[:12] + '...'+ object_[-12:] if len(object_)> 25 else object_\n",
        "          predicate_ = predicate_[:12] + '...'+ predicate_[-12:] if len(predicate_)> 25 else predicate_\n",
        "\n",
        "          # blank nodes are not shown\n",
        "          #subject_ = '' if subject_[:2] == '_:' else subject_\n",
        "          #object_ = '' if object_[:2] == '_:' else object_\n",
        "\n",
        "\n",
        "          # Versions\n",
        "          # nx_graph.add_edge(s, o, label=p) \n",
        "          #nx_graph.add_edge(s.n3(g.namespace_manager),  o.n3(g.namespace_manager), label=p.n3(g.namespace_manager))\n",
        "          nx_graph.add_edge(subject_, object_, label=predicate_)\n",
        "\n",
        "\n",
        "    # Create a PyVis network graph\n",
        "    pyvis_graph = Network(notebook=True, cdn_resources='in_line',bgcolor=\"#EEEEEE\")\n",
        "    ###pyvis_graph.barnes_hut()\n",
        "    ###pyvis_graph.show_buttons(filter_=['physics'])\n",
        "\n",
        "    pyvis_graph.from_nx(nx_graph)\n",
        "\n",
        "    # Customize the node appearance\n",
        "    for node in pyvis_graph.nodes:\n",
        "        node[\"shape\"] = \"dot\"\n",
        "        node[\"size\"] = 10\n",
        "        node[\"font\"] = {\"size\": 10}\n",
        "\n",
        "    # Customize the edge appearance\n",
        "    for edge in pyvis_graph.edges:\n",
        "        edge[\"width\"] = 0.5\n",
        "        edge[\"font\"] = {\"size\": 8, \"align\": \"middle\"}\n",
        "        edge[\"arrows\"] = \"to\"\n",
        "\n",
        "    # Define the HTML file name\n",
        "    html_file = 'graph.html'    \n",
        "    \n",
        "    # Show the graph in the notebook\n",
        "    pyvis_graph.show(html_file)\n",
        "\n",
        "    # Check if the file exists\n",
        "    if os.path.isfile(html_file):\n",
        "        # Read the content of the HTML file\n",
        "        with open(html_file, 'r') as file:\n",
        "            html_content = file.read()\n",
        "        # Display the HTML content in the notebook\n",
        "        display(HTML(html_content))\n",
        "    else:\n",
        "        print(f\"File not found: {html_file}\")"
      ]
    },
    {
      "cell_type": "code",
      "execution_count": null,
      "metadata": {
        "id": "kcCfBIEtp44Q"
      },
      "outputs": [],
      "source": [
        "visualize_graph_pyvis(g,base=\"http://data.europeana.eu/item/04802/\")"
      ]
    },
    {
      "cell_type": "markdown",
      "metadata": {
        "id": "yF2WQ0YsQbhH"
      },
      "source": [
        "## Task 2:  Print RDF graph as HTML table (1 pt)\n",
        "\n",
        "Implement a function `rdf2htmltable(g)` that \n",
        "- takes as parameter an rdflib.Graph \n",
        "- generates and displays an HTML table representing that graph with\n",
        "  - one line per RDF statement \n",
        "  - three columns (subject, predicate, object) \n",
        "  - URIs should be shown in abbreviated form and be represented as links (`href=<full URI>`)\n",
        "\n",
        "Test the function with `rdf_str` and with your solution to task `0. Intro` in the `1. RDF` sheet in `SemAI.jar`."
      ]
    },
    {
      "cell_type": "code",
      "execution_count": null,
      "metadata": {
        "id": "Hz7PpFVjTkZG"
      },
      "outputs": [],
      "source": [
        "def rdf2htmltable(g:Graph):\n",
        "  table_rows = []\n",
        "  for s, p ,o in  g:\n",
        "    #print(s, p, o)\n",
        "    #print(s.n3(g.namespace_manager), str(len(s.n3(g.namespace_manager))), p.n3(g.namespace_manager), o.n3(g.namespace_manager))\n",
        "\n",
        "    s_html = '<a href=\"{0}\">{1}</a>'.format(s.replace('<','').replace('>',''), s.n3(g.namespace_manager).replace('<','').replace('>','') if isinstance (s, URIRef) else s.replace('<','').replace('>','')) \n",
        "    p_html = '<a href=\"{0}\">{1}</a>'.format(p.replace('<','').replace('>',''), p.n3(g.namespace_manager).replace('<','').replace('>','') if isinstance (p, URIRef) else p.replace('<','').replace('>',''))\n",
        "    o_html = '<a href=\"{0}\">{1}</a>'.format(o.replace('<','').replace('>',''), o.n3(g.namespace_manager).replace('<','').replace('>','') if isinstance (o, URIRef) else o.replace('<','').replace('>',''))\n",
        "\n",
        "    row = '<tr><td>{0}</td><td>{1}</td><td>{2}</td></tr>'.format(s_html, p_html, o_html)\n",
        "    table_rows.append(row)\n",
        "  table_header =  '<tr><th>subject</th><th>predicate</th><th>object</th></tr>'\n",
        "  table_html = '<table>{0}{1}</table>'.format(table_header, ''.join(table_rows))\n",
        "  display(HTML(table_html))\n"
      ]
    },
    {
      "cell_type": "code",
      "execution_count": null,
      "metadata": {
        "id": "Iywi3Dlvo4mV"
      },
      "outputs": [],
      "source": [
        "g = Graph()\n",
        "g.parse(format=\"trig\",data=rdf_str)\n",
        "rdf2htmltable(g)"
      ]
    },
    {
      "cell_type": "markdown",
      "metadata": {
        "id": "AvL1cSUQQNFg"
      },
      "source": [
        "## Task 3: A function for parsing and displaying an RDF graph (1 pt)\n",
        "\n",
        "A function `parse_display_rdf(str)` that takes as parameter a string which represents an RDF graph in Turtle notation and \n",
        "- produces an rdflib.Graph from that string\n",
        "- prints the graph in Turte notation\n",
        "- prints the graph in RDF/XML\n",
        "- visualizes it using `visualize_graph` (to be taken from `V01_rdf.ipynb`)\n",
        "- visualizes it using (your improved version of) `visualize_graph_pyvis`\n",
        "- outputs it using `rdf2htmltable` (only if you have implemented this function)\n",
        "\n",
        "Test the function with `rdf_str` and with your solution to task `0. Intro` in the `1. RDF` sheet in `SemAI.jar`."
      ]
    },
    {
      "cell_type": "code",
      "execution_count": null,
      "metadata": {
        "id": "nr-PRsrzTnQP"
      },
      "outputs": [],
      "source": [
        "def parse_display_rdf(rdf_str,base=None):\n",
        "  # produces an rdflib.Graph from that string\n",
        "  g = Graph()\n",
        "  g.parse(format=\"turtle\",data=rdf_str)\n",
        "  \n",
        "  # prints the graph in Turte notation\n",
        "  print(g.serialize(format=\"turtle\" ))\n",
        "\n",
        "  # prints the graph in RDF/XML\n",
        "  print(g.serialize(format=\"xml\"))\n",
        "  \n",
        "  # visualizes it using visualize_graph\n",
        "  visualize_graph(g)\n",
        "\n",
        "  # visualizes it using (your improved version of) visualize_graph_pyvis\n",
        "  visualize_graph_pyvis(g)\n",
        "\n",
        "  # outputs it using rdf2htmltable (only if you have implemented this function)\n",
        "  rdf2htmltable(g)"
      ]
    },
    {
      "cell_type": "markdown",
      "metadata": {
        "id": "pDwSVES2LMnD"
      },
      "source": [
        "### 0. Intro\n",
        "\n",
        "Create an RDF graph in Turtle notation. Use the RDF and FOAF vocabularies where applicable and the example namesspace (prefix ex:) for the other resources.\n",
        "\n",
        "* John is a Person.\n",
        "* John knows Mary."
      ]
    },
    {
      "cell_type": "code",
      "execution_count": null,
      "metadata": {
        "id": "oHCJ_VNPK-Nb"
      },
      "outputs": [],
      "source": [
        "rdf_str = \"\"\"@prefix rdf:  <http://www.w3.org/1999/02/22-rdf-syntax-ns#> .\n",
        "@prefix foaf: <http://xmlns.com/foaf/0.1/> .\n",
        "@prefix ex:   <http://www.ex.org/> .\n",
        "\n",
        "ex:John rdf:type foaf:Person .\n",
        "ex:John foaf:knows ex:Mary .\"\"\""
      ]
    },
    {
      "cell_type": "code",
      "execution_count": null,
      "metadata": {
        "id": "VmZVxQJwPuAR"
      },
      "outputs": [],
      "source": [
        "parse_display_rdf(rdf_str)"
      ]
    },
    {
      "cell_type": "markdown",
      "metadata": {
        "id": "jJFxE0etO_hi"
      },
      "source": [
        "[1] John is a Person\\\n",
        "[1] John knows Mary"
      ]
    },
    {
      "cell_type": "markdown",
      "metadata": {
        "id": "6efAFC8dQexI"
      },
      "source": [
        "# Tasks 4-10 (1 point each)\n",
        "\n",
        "For each of the remaining 7 tasks in the \"1. RDF\" sheet in `SemAI.jar` do the following: \n",
        "- add a text cell in this notebook \n",
        "  - with the description of the task from `SemAI.jar` \n",
        "  - with number and title (e.g., **1. Simple Data Graph**)  from `SemAI.jar` as header \n",
        "- add a code cell where you apply `parse_display_rdf(str)` on your solution"
      ]
    },
    {
      "cell_type": "markdown",
      "metadata": {
        "id": "-DFJOHGnMd93"
      },
      "source": [
        "### 1. Simple Data Graph\n",
        "Create an RDF graph in Turtle notation. Use the FOAF vocabulary to state the following.\n",
        "\n",
        "* Mary and Jim are persons.\n",
        "* Mary knows Jim.\n",
        "* Mary is 27 years old.\n",
        "The URIs for the two persons should be http://www.ex.org/person#Mary and http://www.ex.org/person#Jim. The age of Mary should be represented as an integer."
      ]
    },
    {
      "cell_type": "code",
      "execution_count": null,
      "metadata": {
        "id": "1uCaRdVsK_Ep"
      },
      "outputs": [],
      "source": [
        "rdf_str = \"\"\"@prefix rdf:  <http://www.w3.org/1999/02/22-rdf-syntax-ns#> .\n",
        "@prefix rdfs: <http://www.w3.org/2000/01/rdf-schema#> .\n",
        "@prefix xsd:  <http://www.w3.org/2001/XMLSchema#> .\n",
        "@prefix foaf: <http://xmlns.com/foaf/0.1/> .\n",
        "@prefix :     <http://www.ex.org/person#> .\n",
        "\n",
        ":Mary rdf:type foaf:Person .\n",
        ":Jim rdf:type foaf:Person .\n",
        ":Mary foaf:knows :Jim .\n",
        ":Mary foaf:age \"27\"^^xsd:integer .\n",
        "\"\"\""
      ]
    },
    {
      "cell_type": "code",
      "execution_count": null,
      "metadata": {
        "id": "2oqFHyw7RQ8t"
      },
      "outputs": [],
      "source": [
        "parse_display_rdf(rdf_str)"
      ]
    },
    {
      "cell_type": "markdown",
      "metadata": {
        "id": "FcdF6ONEO1XV"
      },
      "source": [
        "[1] Mary knows Jim\\\n",
        "[1] Mary is a Person\\\n",
        "[1] The graph contains exactly 4 statements.\\\n",
        "[1] Jim is a Person\\\n",
        "[1] Mary is 27 years old"
      ]
    },
    {
      "cell_type": "markdown",
      "metadata": {
        "id": "xtsTkndBMpKI"
      },
      "source": [
        "### 2. Simple Schema\n",
        "\n",
        "Create a vocabulary using RDFS in Turtle. Specify\n",
        "\n",
        "* Classes Company, Employee, and Person\n",
        "* Property worksFor between Employee and Company\n",
        "* Property salary of Employee with Integer as data type\n",
        "* Class Employee is a subclass of Person\n",
        "\n",
        "Use XSD for data types. The URIs of classes and properties are in namespace <http://www.ex.org/vocabulary#>, for example, <http://www.ex.org/vocabulary#Company>"
      ]
    },
    {
      "cell_type": "code",
      "execution_count": null,
      "metadata": {
        "id": "nts1R-83M3On"
      },
      "outputs": [],
      "source": [
        "rdf_str = \"\"\"@prefix rdf:  <http://www.w3.org/1999/02/22-rdf-syntax-ns#> .\n",
        "@prefix rdfs: <http://www.w3.org/2000/01/rdf-schema#> .\n",
        "@prefix xsd:  <http://www.w3.org/2001/XMLSchema#> . \n",
        "@prefix :     <http://www.ex.org/vocabulary#> .\n",
        "\n",
        "\n",
        ":Company a rdfs:Class .\n",
        ":Employee a rdfs:Class.\n",
        ":Person a rdfs:Class .\n",
        ":Employee rdfs:subClassOf :Person .\n",
        ":worksFor rdf:type rdf:Property;\n",
        "  rdfs:domain :Employee;\n",
        "  rdfs:range :Company.\n",
        ":salary rdf:type rdf:Property;\n",
        "  rdfs:domain :Employee;\n",
        "  rdfs:range xsd:integer.\n",
        "\"\"\""
      ]
    },
    {
      "cell_type": "code",
      "execution_count": null,
      "metadata": {
        "id": "YOXbGAVGRbgm"
      },
      "outputs": [],
      "source": [
        "parse_display_rdf(rdf_str)"
      ]
    },
    {
      "cell_type": "markdown",
      "metadata": {
        "id": "RFJw6fexOwRc"
      },
      "source": [
        "[1] employee is a subclass of person\\\n",
        "[1] salary has employee as domain\\\n",
        "[1] The graph contains exactly 10 statements.\\\n",
        "[1] salary has integer as range\\\n",
        "[1] Company is a class.\\\n",
        "[1] worksFor has employee as domain\\\n",
        "[1] worksFor has company as range\\\n",
        "[1] Person is a class\\\n",
        "[1] salary is a property\\\n",
        "[1] Employee is a class\\\n",
        "[1] worksFor is a property"
      ]
    },
    {
      "cell_type": "markdown",
      "metadata": {
        "id": "iNIFURz2RpzT"
      },
      "source": [
        "### 3. Reification\n",
        "\n",
        "Create an RDF graph in Turtle notation. Use the RDF vocabulary where applicable and the example namesspace (ex:) for all other resources (ex:Mary, ex:John, ex:says, ex:loves). Hint: the lecture slides contain a similar reification example.\n",
        "\n",
        "* Mary says that John loves her.\n"
      ]
    },
    {
      "cell_type": "code",
      "execution_count": null,
      "metadata": {
        "id": "RlNMiVwARqOj"
      },
      "outputs": [],
      "source": [
        "rdf_str = \"\"\"@prefix rdf:  <http://www.w3.org/1999/02/22-rdf-syntax-ns#> .\n",
        "@prefix ex:   <http://www.ex.org/> .\n",
        "\n",
        "ex:aStmt rdf:predicate ex:loves .\n",
        "ex:aStmt rdf:object ex:Mary .\n",
        "ex:aStmt rdf:subject ex:John .\n",
        "ex:aStmt rdf:type rdf:Statement .\n",
        "ex:Mary ex:says ex:aStmt .\n",
        "\"\"\""
      ]
    },
    {
      "cell_type": "code",
      "execution_count": null,
      "metadata": {
        "id": "8ARK3FPcRdot"
      },
      "outputs": [],
      "source": [
        "parse_display_rdf(rdf_str)"
      ]
    },
    {
      "cell_type": "markdown",
      "metadata": {
        "id": "ntkJ5OW6OkMZ"
      },
      "source": [
        "[1] loves is the predicate of the reified statement\\\n",
        "[1] Mary says something which is classified as Statement\\\n",
        "[1] Mary is the object of the reified statement\\\n",
        "[1] John is the subject of the reified statement"
      ]
    },
    {
      "cell_type": "markdown",
      "metadata": {
        "id": "a-ZsM_-gTUKD"
      },
      "source": [
        "### 4. Blank Node\n",
        "\n",
        "Create an RDF graph in Turtle notation. Use the RDF and FOAF vocabularies where applicable and the example namesspace (ex:) for the other resources.\n",
        "\n",
        "* John knows a person, who knows Mary.\n",
        "* Use a blank node to represent that anonymous person."
      ]
    },
    {
      "cell_type": "code",
      "execution_count": null,
      "metadata": {
        "id": "EySzncfzTUZN"
      },
      "outputs": [],
      "source": [
        "rdf_str = \"\"\"@prefix rdf:  <http://www.w3.org/1999/02/22-rdf-syntax-ns#> .\n",
        "@prefix foaf: <http://xmlns.com/foaf/0.1/> .\n",
        "@prefix ex:   <http://www.ex.org/> .\n",
        "\n",
        "ex:John foaf:knows [foaf:knows ex:Mary; rdf:type foaf:Person] .\n",
        "\"\"\""
      ]
    },
    {
      "cell_type": "code",
      "execution_count": null,
      "metadata": {
        "id": "oJnnbvIpRe0f"
      },
      "outputs": [],
      "source": [
        "parse_display_rdf(rdf_str)"
      ]
    },
    {
      "cell_type": "markdown",
      "metadata": {
        "id": "dc0nnO9TOe0v"
      },
      "source": [
        "[1] John knows a Person\\\n",
        "[1] John knows someone who is a Person\\\n",
        "[1] John knows a Person who knows Mary and that person is represented as a blank node.\\\n",
        "[1] John knows a Person who knows Mary."
      ]
    },
    {
      "cell_type": "markdown",
      "metadata": {
        "id": "k-UoZ0DOU4BW"
      },
      "source": [
        "### 5. Multiple Classification\n",
        "\n",
        "Create an RDF graph in Turtle notation. Use the RDF vocabulary where applicable and the example namesspace (ex:) for the other resources.\n",
        "\n",
        "* John is an instance of SoccerPlayer and of Student."
      ]
    },
    {
      "cell_type": "markdown",
      "metadata": {
        "id": "saBD7BQGGaBX"
      },
      "source": [
        "comment: wieso funktioniert statt a auch rdf:type im SemAI? ist das vergleichbar?"
      ]
    },
    {
      "cell_type": "code",
      "execution_count": null,
      "metadata": {
        "id": "WzXTY_6WVCMM"
      },
      "outputs": [],
      "source": [
        "rdf_str = \"\"\"@prefix rdf:  <http://www.w3.org/1999/02/22-rdf-syntax-ns#> .\n",
        "@prefix ex:   <http://www.ex.org/> .\n",
        "\n",
        "#ex:John rdf:type ex:SoccerPlayer .\n",
        "ex:John a ex:SoccerPlayer .\n",
        "ex:John a ex:Student.\n",
        "\"\"\""
      ]
    },
    {
      "cell_type": "code",
      "execution_count": null,
      "metadata": {
        "id": "qVXQtyH1Rf2b"
      },
      "outputs": [],
      "source": [
        "parse_display_rdf(rdf_str)"
      ]
    },
    {
      "cell_type": "markdown",
      "metadata": {
        "id": "iguAwLeRObJg"
      },
      "source": [
        "[1] John is an instance of SoccerPlayer\\\n",
        "[1] John is an instance of Student"
      ]
    },
    {
      "cell_type": "markdown",
      "metadata": {
        "id": "RIPTWZeuVCjd"
      },
      "source": [
        "### 6. Metamodeling\n",
        "Create an RDF graph in Turtle notation. Use the RDF and RDF Schema vocabularies where applicable and the example namesspace (ex:) for the other resources.\n",
        "\n",
        "* Dog and Cat are instances of Species and subclasses of Animal.\n",
        "* Lassie is an instance of Dog."
      ]
    },
    {
      "cell_type": "code",
      "execution_count": null,
      "metadata": {
        "id": "HZrPeY_oVIrp"
      },
      "outputs": [],
      "source": [
        "rdf_str = \"\"\"@prefix rdf:  <http://www.w3.org/1999/02/22-rdf-syntax-ns#> .\n",
        "@prefix rdfs: <http://www.w3.org/2000/01/rdf-schema#> .\n",
        "@prefix ex:   <http://www.ex.org/> .\n",
        "\n",
        "ex:Dog a ex:Species; rdfs:subClassOf ex:Animal .\n",
        "ex:Cat a ex:Species; rdfs:subClassOf ex:Animal .\n",
        "ex:Lassie a ex:Dog .\n",
        "\"\"\""
      ]
    },
    {
      "cell_type": "code",
      "execution_count": null,
      "metadata": {
        "id": "G-PesrlyRhA3"
      },
      "outputs": [],
      "source": [
        "parse_display_rdf(rdf_str)"
      ]
    },
    {
      "cell_type": "markdown",
      "metadata": {
        "id": "uYkzXDu9OW1Y"
      },
      "source": [
        "[1] Dog is an instance of Species\\\n",
        "[1] Dog is a subclass of Animal\\\n",
        "[1] Lassie is an instance of Dog\\\n",
        "[1] Cat is an instance of Species.\\\n",
        "[1] Cat is a subclass of Animal."
      ]
    },
    {
      "cell_type": "markdown",
      "metadata": {
        "id": "L1neebS4VI-1"
      },
      "source": [
        "### 7. Properties\n",
        "\n",
        "Create an RDF graph in Turtle notation. Use the RDF and RDF Schema vocabularies where applicable and the example namesspace (ex:) for the other resources, e.g., ex:childOf, ex:descendantOf.\n",
        "\n",
        "* Everyone who is a child of someone, is also a descendant of that someone."
      ]
    },
    {
      "cell_type": "code",
      "execution_count": null,
      "metadata": {
        "id": "gp25g1arVQ_M"
      },
      "outputs": [],
      "source": [
        "rdf_str = \"\"\"@prefix rdf:  <http://www.w3.org/1999/02/22-rdf-syntax-ns#> .\n",
        "@prefix rdfs: <http://www.w3.org/2000/01/rdf-schema#> .\n",
        "@prefix ex:   <http://www.ex.org/> .\n",
        "\n",
        "ex:childOf rdfs:subPropertyOf ex:descendantOf.\n",
        "\"\"\""
      ]
    },
    {
      "cell_type": "code",
      "execution_count": null,
      "metadata": {
        "id": "D1kvUqcmRh23"
      },
      "outputs": [],
      "source": [
        "parse_display_rdf(rdf_str)"
      ]
    },
    {
      "cell_type": "markdown",
      "metadata": {
        "id": "tRRnrj_xOR07"
      },
      "source": [
        "[1] every child-of relationship is also a descendant-of relationship"
      ]
    }
  ],
  "metadata": {
    "colab": {
      "provenance": []
    },
    "kernelspec": {
      "display_name": "Python 3",
      "language": "python",
      "name": "python3"
    },
    "language_info": {
      "codemirror_mode": {
        "name": "ipython",
        "version": 3
      },
      "file_extension": ".py",
      "mimetype": "text/x-python",
      "name": "python",
      "nbconvert_exporter": "python",
      "pygments_lexer": "ipython3",
      "version": "3.11.0"
    }
  },
  "nbformat": 4,
  "nbformat_minor": 0
}
